{
 "cells": [
  {
   "cell_type": "code",
   "execution_count": 4,
   "id": "2412e166-67c7-45a5-a848-4a5051cee763",
   "metadata": {},
   "outputs": [],
   "source": [
    "import cv2 as cv\n",
    "import sys\n",
    "# read image \n",
    "gray_img = cv.imread('Erica.jpg', cv.IMREAD_GRAYSCALE)\n",
    "# change it into color\n",
    "color_img = cv.cvtColor(gray_img, cv.COLOR_GRAY2BGR)\n",
    "\n",
    "# Enter student id\n",
    "cv.putText(color_img, '2021054466', (10,550), cv.FONT_HERSHEY_SIMPLEX, \n",
    "            1.5, (0,255,0), 1)\n",
    "\n",
    "def draw(event,x,y,flags,param):\n",
    "    global ix, iy;\n",
    "    \n",
    "    if event == cv.EVENT_LBUTTONDOWN:\n",
    "        ix,iy=x,y\n",
    "    elif event == cv.EVENT_LBUTTONUP:\n",
    "        cv.rectangle(color_img,(ix,iy),(x,y),(255,0,255),2)\n",
    "    cv.imshow('Result', color_img)\n",
    "    \n",
    "cv.namedWindow('Result')\n",
    "cv.setMouseCallback('Result',draw)\n",
    "\n",
    "\n",
    "while(True):\n",
    "    cv.imshow('Result',color_img)\n",
    "    \n",
    "    key = cv.waitKey(1)& 0xFF\n",
    "    if key == 27:\n",
    "        break\n",
    "\n",
    "cv.imwrite('HW1.jpg', color_img)\n",
    "\n",
    "cv.destroyAllWindows()"
   ]
  },
  {
   "cell_type": "code",
   "execution_count": null,
   "id": "677127a1-5a03-495f-8db3-d2816d6d5923",
   "metadata": {},
   "outputs": [],
   "source": []
  }
 ],
 "metadata": {
  "kernelspec": {
   "display_name": "Python 3 (ipykernel)",
   "language": "python",
   "name": "python3"
  },
  "language_info": {
   "codemirror_mode": {
    "name": "ipython",
    "version": 3
   },
   "file_extension": ".py",
   "mimetype": "text/x-python",
   "name": "python",
   "nbconvert_exporter": "python",
   "pygments_lexer": "ipython3",
   "version": "3.11.7"
  }
 },
 "nbformat": 4,
 "nbformat_minor": 5
}
