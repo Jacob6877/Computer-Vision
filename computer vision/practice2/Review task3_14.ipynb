{
 "cells": [
  {
   "cell_type": "markdown",
   "id": "2d8c36f9-aa29-4d8e-b36e-a815487a41a0",
   "metadata": {},
   "source": [
    "(a) Scale down the size of images\n",
    "to 50%\n",
    "(b) With HSV color model,\n",
    "- Change the hue by 180 degrees\n",
    "- Decrease the saturation by 50%\n",
    "- Increase the value by 50%\n",
    "(c) Merge 2x2 images into a\n",
    "a single image and save it to\n",
    "erica_new1.jpg"
   ]
  },
  {
   "cell_type": "code",
   "execution_count": 10,
   "id": "15bf39c9-12bc-4b46-9a81-19803d1bdc83",
   "metadata": {},
   "outputs": [],
   "source": [
    "import cv2\n",
    "import numpy as np\n",
    "import sys\n",
    "\n",
    "# Load the image\n",
    "image = cv2.imread('Erica.jpg')\n",
    "\n",
    "if image is None:\n",
    "    print('File not found')\n",
    "\n",
    "# Step 1: Scale down the size of the image to 50%\n",
    "pic1 = cv2.resize(image, None, fx=0.5, fy=0.5)\n",
    "\n",
    "# Step 2: Convert the image to HSV color model\n",
    "hsv_image = cv2.cvtColor(pic1, cv2.COLOR_BGR2HSV)\n",
    "\n",
    "# Step 2a: Change the hue to 180 degrees\n",
    "pic2 = np.copy(hsv_image)\n",
    "pic2[:, :, 0] = (pic2[:, :, 0] + 90)\n",
    "\n",
    "# Step 3: Decrease the saturation by 50%\n",
    "pic3 = np.copy(hsv_image)\n",
    "pic3[:, :, 1] = np.clip(0.5 * pic3[:, :, 1], 0, 255).astype(np.uint8)\n",
    "\n",
    "# Step 4: Increase the value by 50%\n",
    "pic4 = np.copy(hsv_image)\n",
    "pic4[:, :, 2] = np.clip(1.5 * pic4[:, :, 2], 0, 255).astype(np.uint8)\n",
    "\n",
    "# Convert the images back to BGR for display and saving\n",
    "pic2 = cv2.cvtColor(pic2, cv2.COLOR_HSV2BGR)\n",
    "pic3 = cv2.cvtColor(pic3, cv2.COLOR_HSV2BGR)\n",
    "pic4 = cv2.cvtColor(pic4, cv2.COLOR_HSV2BGR)\n",
    "\n",
    "# Step 5: Merge 2x2 images\n",
    "top_row = np.hstack((pic1, pic2))\n",
    "bottom_row = np.hstack((pic3, pic4))\n",
    "merged_image = np.vstack((top_row, bottom_row))\n",
    "\n",
    "# Save the merged image\n",
    "cv2.imwrite('erica_new1.jpg', merged_image)\n",
    "\n",
    "# Display the merged image\n",
    "cv2.imshow('Merged Image', merged_image)\n",
    "cv2.waitKey(0)\n",
    "cv2.destroyAllWindows()"
   ]
  },
  {
   "cell_type": "code",
   "execution_count": null,
   "id": "4dd21239-6601-4508-8cb4-4b1d7cf0b0b4",
   "metadata": {},
   "outputs": [],
   "source": []
  }
 ],
 "metadata": {
  "kernelspec": {
   "display_name": "Python 3 (ipykernel)",
   "language": "python",
   "name": "python3"
  },
  "language_info": {
   "codemirror_mode": {
    "name": "ipython",
    "version": 3
   },
   "file_extension": ".py",
   "mimetype": "text/x-python",
   "name": "python",
   "nbconvert_exporter": "python",
   "pygments_lexer": "ipython3",
   "version": "3.11.7"
  }
 },
 "nbformat": 4,
 "nbformat_minor": 5
}
