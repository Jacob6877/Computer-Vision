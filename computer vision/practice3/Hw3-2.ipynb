{
 "cells": [
  {
   "cell_type": "code",
   "execution_count": 3,
   "id": "4716d1bd-ddc8-456e-b315-44773aa18cfb",
   "metadata": {},
   "outputs": [
    {
     "name": "stdout",
     "output_type": "stream",
     "text": [
      "Otsu Threshold of soccer for Red Channel Image: 113.0\n",
      "Otsu Threshold of rose for Gray Image: 79.0\n",
      "Otsu Threshold of rose for Red Channel Image: 112.0\n"
     ]
    }
   ],
   "source": [
    "# Otsu Threshold of soccer for Red Channel Image: 113.0\n",
    "# Otsu Threshold of rose for Gray Image: 79.0\n",
    "# Otsu Threshold of rose for Red Channel Image: 112.0\n",
    "\n",
    "import cv2 as cv\n",
    "\n",
    "# Read the image\n",
    "img = cv.imread('soccer.jpg', cv.IMREAD_COLOR)  # Read the image in BGR format\n",
    "img2 = cv.imread('rose.png', cv.IMREAD_COLOR)  # Read the image in BGR format\n",
    "if img is None:\n",
    "    print(\"File not found\")\n",
    "\n",
    "# Convert the image to grayscale\n",
    "gray_img2 = cv.cvtColor(img2, cv.COLOR_BGR2GRAY)\n",
    "\n",
    "# Extract the red channel\n",
    "red_channel_img = img[:, :, 2]  # BGR channels are 0, 1, 2, here extracting the red channel    \n",
    "red_channel_img2 = img2[:, :, 2]  # BGR channels are 0, 1, 2, here extracting the red channel    \n",
    "\n",
    "# Apply thresholding\n",
    "ret, thresh1 = cv.threshold(img, 128, 255, cv.THRESH_BINARY)\n",
    "ret2, thresh2 = cv.threshold(red_channel_img, 0, 255, cv.THRESH_BINARY + cv.THRESH_OTSU)\n",
    "\n",
    "print('Otsu Threshold of soccer for Red Channel Image:', ret2)\n",
    "\n",
    "ret3, thresh3 = cv.threshold(gray_img2, 128, 255, cv.THRESH_BINARY+ cv.THRESH_OTSU)\n",
    "ret4, thresh4 = cv.threshold(red_channel_img2, 0, 255, cv.THRESH_BINARY + cv.THRESH_OTSU)\n",
    "\n",
    "print('Otsu Threshold of rose for Gray Image:', ret3)\n",
    "print('Otsu Threshold of rose for Red Channel Image:', ret4)\n",
    "\n",
    "# Display images\n",
    "titles = ['Original Image1', 'img1_Binary128', 'img1_Otsu','Original Image2', 'img2_Binary128', 'img2_Otsu']\n",
    "images = [img, thresh1, thresh2,img2, thresh3, thresh4]\n",
    "\n",
    "for i in range(6):\n",
    "    cv.imshow(titles[i], images[i])\n",
    "\n",
    "cv.waitKey(0)  # Wait for a key press, 0 means infinite wait\n",
    "cv.destroyAllWindows()\n"
   ]
  },
  {
   "cell_type": "code",
   "execution_count": null,
   "id": "f5b212d3-8402-48ca-9175-9e1974fde425",
   "metadata": {},
   "outputs": [],
   "source": []
  }
 ],
 "metadata": {
  "kernelspec": {
   "display_name": "Python 3 (ipykernel)",
   "language": "python",
   "name": "python3"
  },
  "language_info": {
   "codemirror_mode": {
    "name": "ipython",
    "version": 3
   },
   "file_extension": ".py",
   "mimetype": "text/x-python",
   "name": "python",
   "nbconvert_exporter": "python",
   "pygments_lexer": "ipython3",
   "version": "3.11.7"
  }
 },
 "nbformat": 4,
 "nbformat_minor": 5
}
